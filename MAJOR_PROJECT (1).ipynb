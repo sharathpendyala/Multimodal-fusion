{
 "cells": [
  {
   "cell_type": "code",
   "execution_count": 1,
   "id": "6c5092cb",
   "metadata": {},
   "outputs": [],
   "source": [
    "import numpy as np\n",
    "import pandas as pd\n",
    "from sklearn import preprocessing \n",
    "from sklearn.model_selection import train_test_split\n",
    "from sklearn.metrics import confusion_matrix\n",
    "from sklearn.naive_bayes import MultinomialNB\n",
    "from sklearn.ensemble import RandomForestClassifier\n",
    "from sklearn.metrics import accuracy_score\n",
    "import tensorflow as tf\n",
    "from tensorflow import keras\n",
    "from sklearn.preprocessing import StandardScaler"
   ]
  },
  {
   "cell_type": "code",
   "execution_count": 6,
   "id": "d0a4cb16",
   "metadata": {},
   "outputs": [],
   "source": [
    "clinical_data=pd.read_csv(\"C:/Users/manid/Downloads/full_clinical_file.csv\")"
   ]
  },
  {
   "cell_type": "code",
   "execution_count": 7,
   "id": "d6fd057a",
   "metadata": {},
   "outputs": [
    {
     "name": "stdout",
     "output_type": "stream",
     "text": [
      "     Case ID Patient affiliation  Age at Histological Diagnosis  \\\n",
      "0    AMC-001            Stanford                             34   \n",
      "1    AMC-002            Stanford                             33   \n",
      "2    AMC-003            Stanford                             69   \n",
      "3    AMC-004            Stanford                             80   \n",
      "4    AMC-005            Stanford                             76   \n",
      "..       ...                 ...                            ...   \n",
      "206  R01-159            Stanford                             75   \n",
      "207  R01-160                  VA                             61   \n",
      "208  R01-161            Stanford                             52   \n",
      "209  R01-162            Stanford                             67   \n",
      "210  R01-163                  VA                             68   \n",
      "\n",
      "      Weight (lbs)  Gender                 Ethnicity Smoking status  \\\n",
      "0    Not Collected    Male  Not Recorded In Database      Nonsmoker   \n",
      "1    Not Collected  Female  Not Recorded In Database      Nonsmoker   \n",
      "2    Not Collected  Female  Not Recorded In Database      Nonsmoker   \n",
      "3    Not Collected  Female  Not Recorded In Database      Nonsmoker   \n",
      "4    Not Collected    Male  Not Recorded In Database         Former   \n",
      "..             ...     ...                       ...            ...   \n",
      "206            184    Male                 Caucasian         Former   \n",
      "207          231.5    Male                 Caucasian         Former   \n",
      "208  Not Collected  Female                 Caucasian         Former   \n",
      "209            158    Male                     Asian         Former   \n",
      "210            229    Male                 Caucasian        Current   \n",
      "\n",
      "    Pack Years  Quit Smoking Year           %GG  ... Recurrence  \\\n",
      "0          NaN                NaN  Not Assessed  ...        yes   \n",
      "1          NaN                NaN  Not Assessed  ...         no   \n",
      "2          NaN                NaN  Not Assessed  ...         no   \n",
      "3          NaN                NaN  Not Assessed  ...         no   \n",
      "4           30             1962.0  Not Assessed  ...        yes   \n",
      "..         ...                ...           ...  ...        ...   \n",
      "206         55             1994.0  Not Assessed  ...         no   \n",
      "207         12             1993.0  Not Assessed  ...         no   \n",
      "208          7                NaN  Not Assessed  ...         no   \n",
      "209         15             1966.0  Not Assessed  ...         no   \n",
      "210         30                NaN  Not Assessed  ...        yes   \n",
      "\n",
      "    Recurrence Location Date of Recurrence Date of Last Known Alive  \\\n",
      "0               distant          10/7/1994                 1/7/1997   \n",
      "1                   NaN                NaN                3/20/1992   \n",
      "2                   NaN                NaN                6/19/1996   \n",
      "3                   NaN                NaN               12/13/1996   \n",
      "4               distant           1/4/1996                 1/7/1997   \n",
      "..                  ...                ...                      ...   \n",
      "206                 NaN                NaN                7/13/1995   \n",
      "207                 NaN                NaN                 7/3/1999   \n",
      "208                 NaN                NaN                 4/2/1999   \n",
      "209                 NaN                NaN                10/8/1997   \n",
      "210             distant          2/15/1996                1/11/1997   \n",
      "\n",
      "    Survival Status Date of Death Time to Death (days)     CT Date  \\\n",
      "0              Dead      1/7/1997                872.0   8/10/1994   \n",
      "1             Alive           NaN                  NaN   2/19/1992   \n",
      "2             Alive           NaN                  NaN   2/23/1995   \n",
      "3             Alive           NaN                  NaN  12/26/1992   \n",
      "4             Alive           NaN                  NaN   7/21/1994   \n",
      "..              ...           ...                  ...         ...   \n",
      "206           Alive           NaN                  NaN  11/24/1994   \n",
      "207           Alive           NaN                  NaN   8/12/1993   \n",
      "208           Alive           NaN                  NaN  12/13/1995   \n",
      "209            Dead     10/8/1997                671.0   10/3/1995   \n",
      "210            Dead     1/11/1997                462.0   8/17/1995   \n",
      "\n",
      "    Days between CT and surgery       PET Date  \n",
      "0                             9  Not Collected  \n",
      "1                             3  Not Collected  \n",
      "2                            28  Not Collected  \n",
      "3                            47  Not Collected  \n",
      "4                             2  Not Collected  \n",
      "..                          ...            ...  \n",
      "206                          14     11/16/1994  \n",
      "207                          72      9/22/1993  \n",
      "208                           8      9/26/1995  \n",
      "209                          65     11/14/1995  \n",
      "210                          51      7/12/1995  \n",
      "\n",
      "[211 rows x 40 columns]\n"
     ]
    }
   ],
   "source": [
    "print(clinical_data)"
   ]
  },
  {
   "cell_type": "code",
   "execution_count": 8,
   "id": "fcc28cc9",
   "metadata": {},
   "outputs": [
    {
     "data": {
      "text/plain": [
       "Index(['Case ID', 'Patient affiliation', 'Age at Histological Diagnosis',\n",
       "       'Weight (lbs)', 'Gender', 'Ethnicity', 'Smoking status', 'Pack Years',\n",
       "       'Quit Smoking Year', '%GG', 'Tumor Location (choice=RUL)',\n",
       "       'Tumor Location (choice=RML)', 'Tumor Location (choice=RLL)',\n",
       "       'Tumor Location (choice=LUL)', 'Tumor Location (choice=LLL)',\n",
       "       'Tumor Location (choice=L Lingula)', 'Tumor Location (choice=Unknown)',\n",
       "       'Histology ', 'Pathological T stage', 'Pathological N stage',\n",
       "       'Pathological M stage', 'Histopathological Grade',\n",
       "       'Lymphovascular invasion',\n",
       "       'Pleural invasion (elastic, visceral, or parietal)',\n",
       "       'EGFR mutation status', 'KRAS mutation status',\n",
       "       'ALK translocation status', 'Adjuvant Treatment', 'Chemotherapy',\n",
       "       'Radiation', 'Recurrence', 'Recurrence Location', 'Date of Recurrence',\n",
       "       'Date of Last Known Alive', 'Survival Status', 'Date of Death',\n",
       "       'Time to Death (days)', 'CT Date', 'Days between CT and surgery',\n",
       "       'PET Date'],\n",
       "      dtype='object')"
      ]
     },
     "execution_count": 8,
     "metadata": {},
     "output_type": "execute_result"
    }
   ],
   "source": [
    "#features in the dataset\n",
    "clinical_data.columns"
   ]
  },
  {
   "cell_type": "code",
   "execution_count": 9,
   "id": "72c2ced2",
   "metadata": {},
   "outputs": [
    {
     "data": {
      "text/plain": [
       "RangeIndex(start=0, stop=211, step=1)"
      ]
     },
     "execution_count": 9,
     "metadata": {},
     "output_type": "execute_result"
    }
   ],
   "source": [
    "#no of rows in the dataset\n",
    "clinical_data.index"
   ]
  },
  {
   "cell_type": "code",
   "execution_count": 10,
   "id": "58e37898",
   "metadata": {},
   "outputs": [
    {
     "name": "stdout",
     "output_type": "stream",
     "text": [
      "<class 'pandas.core.frame.DataFrame'>\n",
      "RangeIndex: 211 entries, 0 to 210\n",
      "Data columns (total 40 columns):\n",
      " #   Column                                             Non-Null Count  Dtype  \n",
      "---  ------                                             --------------  -----  \n",
      " 0   Case ID                                            211 non-null    object \n",
      " 1   Patient affiliation                                211 non-null    object \n",
      " 2   Age at Histological Diagnosis                      211 non-null    int64  \n",
      " 3   Weight (lbs)                                       211 non-null    object \n",
      " 4   Gender                                             211 non-null    object \n",
      " 5   Ethnicity                                          211 non-null    object \n",
      " 6   Smoking status                                     211 non-null    object \n",
      " 7   Pack Years                                         163 non-null    object \n",
      " 8   Quit Smoking Year                                  108 non-null    float64\n",
      " 9   %GG                                                211 non-null    object \n",
      " 10  Tumor Location (choice=RUL)                        211 non-null    object \n",
      " 11  Tumor Location (choice=RML)                        211 non-null    object \n",
      " 12  Tumor Location (choice=RLL)                        211 non-null    object \n",
      " 13  Tumor Location (choice=LUL)                        211 non-null    object \n",
      " 14  Tumor Location (choice=LLL)                        211 non-null    object \n",
      " 15  Tumor Location (choice=L Lingula)                  211 non-null    object \n",
      " 16  Tumor Location (choice=Unknown)                    211 non-null    object \n",
      " 17  Histology                                          211 non-null    object \n",
      " 18  Pathological T stage                               211 non-null    object \n",
      " 19  Pathological N stage                               211 non-null    object \n",
      " 20  Pathological M stage                               211 non-null    object \n",
      " 21  Histopathological Grade                            211 non-null    object \n",
      " 22  Lymphovascular invasion                            211 non-null    object \n",
      " 23  Pleural invasion (elastic, visceral, or parietal)  211 non-null    object \n",
      " 24  EGFR mutation status                               211 non-null    object \n",
      " 25  KRAS mutation status                               211 non-null    object \n",
      " 26  ALK translocation status                           211 non-null    object \n",
      " 27  Adjuvant Treatment                                 211 non-null    object \n",
      " 28  Chemotherapy                                       211 non-null    object \n",
      " 29  Radiation                                          211 non-null    object \n",
      " 30  Recurrence                                         211 non-null    object \n",
      " 31  Recurrence Location                                54 non-null     object \n",
      " 32  Date of Recurrence                                 54 non-null     object \n",
      " 33  Date of Last Known Alive                           211 non-null    object \n",
      " 34  Survival Status                                    211 non-null    object \n",
      " 35  Date of Death                                      63 non-null     object \n",
      " 36  Time to Death (days)                               63 non-null     float64\n",
      " 37  CT Date                                            211 non-null    object \n",
      " 38  Days between CT and surgery                        211 non-null    int64  \n",
      " 39  PET Date                                           211 non-null    object \n",
      "dtypes: float64(2), int64(2), object(36)\n",
      "memory usage: 66.1+ KB\n"
     ]
    }
   ],
   "source": [
    "#information about each feature\n",
    "clinical_data.info()"
   ]
  },
  {
   "cell_type": "code",
   "execution_count": 11,
   "id": "d4af70a3",
   "metadata": {},
   "outputs": [
    {
     "data": {
      "text/plain": [
       "Former       130\n",
       "Nonsmoker     48\n",
       "Current       33\n",
       "Name: Smoking status, dtype: int64"
      ]
     },
     "execution_count": 11,
     "metadata": {},
     "output_type": "execute_result"
    }
   ],
   "source": [
    "clinical_data[\"Smoking status\"].value_counts()"
   ]
  },
  {
   "cell_type": "code",
   "execution_count": 12,
   "id": "b04cdd4a",
   "metadata": {},
   "outputs": [
    {
     "data": {
      "text/plain": [
       "Male      135\n",
       "Female     76\n",
       "Name: Gender, dtype: int64"
      ]
     },
     "execution_count": 12,
     "metadata": {},
     "output_type": "execute_result"
    }
   ],
   "source": [
    "clinical_data[\"Gender\"].value_counts()"
   ]
  },
  {
   "cell_type": "code",
   "execution_count": 13,
   "id": "ad2db270",
   "metadata": {},
   "outputs": [
    {
     "data": {
      "text/plain": [
       "no     157\n",
       "yes     54\n",
       "Name: Recurrence, dtype: int64"
      ]
     },
     "execution_count": 13,
     "metadata": {},
     "output_type": "execute_result"
    }
   ],
   "source": [
    "clinical_data[\"Recurrence\"].value_counts()\n",
    "#replacing Not checked with No\n",
    "clinical_data[\"Recurrence\"]=clinical_data[\"Recurrence\"].replace(\"Not collected\",\"no\")\n",
    "clinical_data[\"Recurrence\"].value_counts()"
   ]
  },
  {
   "cell_type": "code",
   "execution_count": 14,
   "id": "7d23f9b6",
   "metadata": {},
   "outputs": [
    {
     "data": {
      "text/plain": [
       "Alive    148\n",
       "Dead      63\n",
       "Name: Survival Status, dtype: int64"
      ]
     },
     "execution_count": 14,
     "metadata": {},
     "output_type": "execute_result"
    }
   ],
   "source": [
    "clinical_data[\"Survival Status\"].value_counts()"
   ]
  },
  {
   "cell_type": "code",
   "execution_count": 15,
   "id": "6de4efd7",
   "metadata": {},
   "outputs": [
    {
     "data": {
      "text/plain": [
       "No     195\n",
       "Yes     16\n",
       "Name: Radiation, dtype: int64"
      ]
     },
     "execution_count": 15,
     "metadata": {},
     "output_type": "execute_result"
    }
   ],
   "source": [
    "clinical_data[\"Radiation\"].value_counts()\n",
    "#replacing Not checked with No\n",
    "clinical_data[\"Radiation\"]=clinical_data[\"Radiation\"].replace(\"Not Collected\",\"No\")\n",
    "clinical_data[\"Radiation\"].value_counts()"
   ]
  },
  {
   "cell_type": "code",
   "execution_count": 16,
   "id": "4b900af2",
   "metadata": {},
   "outputs": [
    {
     "data": {
      "text/plain": [
       "No     162\n",
       "Yes     49\n",
       "Name: Chemotherapy, dtype: int64"
      ]
     },
     "execution_count": 16,
     "metadata": {},
     "output_type": "execute_result"
    }
   ],
   "source": [
    "clinical_data[\"Chemotherapy\"].value_counts()\n",
    "#replacing Not checked with No\n",
    "clinical_data[\"Chemotherapy\"]=clinical_data[\"Chemotherapy\"].replace(\"Not Collected\",\"No\")\n",
    "clinical_data[\"Chemotherapy\"].value_counts()"
   ]
  },
  {
   "cell_type": "code",
   "execution_count": 17,
   "id": "110091f6",
   "metadata": {
    "scrolled": true
   },
   "outputs": [
    {
     "data": {
      "text/plain": [
       "Wildtype    168\n",
       "Mutant       43\n",
       "Name: EGFR mutation status, dtype: int64"
      ]
     },
     "execution_count": 17,
     "metadata": {},
     "output_type": "execute_result"
    }
   ],
   "source": [
    "#EGFR mutation status\n",
    "clinical_data[\"EGFR mutation status\"].value_counts()\n",
    "#replacing Not checked with No\n",
    "clinical_data[\"EGFR mutation status\"]=clinical_data[\"EGFR mutation status\"].replace(\"Not collected\",\"Wildtype\")\n",
    "clinical_data[\"EGFR mutation status\"]=clinical_data[\"EGFR mutation status\"].replace(\"Unknown\",\"Wildtype\")\n",
    "clinical_data[\"EGFR mutation status\"].value_counts()"
   ]
  },
  {
   "cell_type": "code",
   "execution_count": 18,
   "id": "3ee63996",
   "metadata": {},
   "outputs": [
    {
     "data": {
      "text/plain": [
       "Wildtype    173\n",
       "Mutant       38\n",
       "Name: KRAS mutation status, dtype: int64"
      ]
     },
     "execution_count": 18,
     "metadata": {},
     "output_type": "execute_result"
    }
   ],
   "source": [
    "#KRAS mutation status\n",
    "clinical_data[\"KRAS mutation status\"].value_counts()\n",
    "#replacing Not checked with No\n",
    "clinical_data[\"KRAS mutation status\"]=clinical_data[\"KRAS mutation status\"].replace(\"Not collected\",\"Wildtype\")\n",
    "clinical_data[\"KRAS mutation status\"]=clinical_data[\"KRAS mutation status\"].replace(\"Unknown\",\"Wildtype\")\n",
    "clinical_data[\"KRAS mutation status\"].value_counts()"
   ]
  },
  {
   "cell_type": "code",
   "execution_count": 19,
   "id": "8fd103f0",
   "metadata": {},
   "outputs": [
    {
     "data": {
      "text/plain": [
       "Wildtype        209\n",
       "Translocated      2\n",
       "Name: ALK translocation status, dtype: int64"
      ]
     },
     "execution_count": 19,
     "metadata": {},
     "output_type": "execute_result"
    }
   ],
   "source": [
    "#ALK translocation status\n",
    "clinical_data[\"ALK translocation status\"].value_counts()\n",
    "#replacing Not checked with No\n",
    "clinical_data[\"ALK translocation status\"]=clinical_data[\"ALK translocation status\"].replace(\"Not collected\",\"Wildtype\")\n",
    "clinical_data[\"ALK translocation status\"]=clinical_data[\"ALK translocation status\"].replace(\"Unknown\",\"Wildtype\")\n",
    "clinical_data[\"ALK translocation status\"].value_counts()"
   ]
  },
  {
   "cell_type": "code",
   "execution_count": 20,
   "id": "01b1287b",
   "metadata": {},
   "outputs": [
    {
     "data": {
      "text/plain": [
       "Adenocarcinoma             176\n",
       "Squamous cell carcinoma     35\n",
       "Name: Histology , dtype: int64"
      ]
     },
     "execution_count": 20,
     "metadata": {},
     "output_type": "execute_result"
    }
   ],
   "source": [
    "#Histology\n",
    "clinical_data[\"Histology \"].value_counts()\n",
    "clinical_data[\"Histology \"]=clinical_data[\"Histology \"].replace(\"NSCLC NOS (not otherwise specified)\",\"Adenocarcinoma\")\n",
    "clinical_data[\"Histology \"].value_counts()"
   ]
  },
  {
   "cell_type": "markdown",
   "id": "50e18e3e",
   "metadata": {},
   "source": [
    "# Data Preprocessing"
   ]
  },
  {
   "cell_type": "code",
   "execution_count": 21,
   "id": "3b9788b3",
   "metadata": {},
   "outputs": [],
   "source": [
    "#Smoking Status\n",
    "# Define the mapping\n",
    "smoking_status_mapping = {'Nonsmoker': 0, 'Former': 1, 'Current': 2}\n",
    "\n",
    "# Apply the mapping to the 'Smoking status' column\n",
    "clinical_data['Smoking status'] = clinical_data['Smoking status'].map(smoking_status_mapping)"
   ]
  },
  {
   "cell_type": "code",
   "execution_count": 22,
   "id": "d5f99ffb",
   "metadata": {},
   "outputs": [],
   "source": [
    "#Recurrence\n",
    "# label_encoder object knows  \n",
    "\n",
    "label_encoder = preprocessing.LabelEncoder()   \n",
    "# Encode labels in column 'species'. \n",
    "clinical_data['Recurrence']= label_encoder.fit_transform(clinical_data['Recurrence']) "
   ]
  },
  {
   "cell_type": "code",
   "execution_count": 23,
   "id": "5ba83a98",
   "metadata": {},
   "outputs": [],
   "source": [
    "#Raditaion\n",
    "# label_encoder object knows  \n",
    "label_encoder = preprocessing.LabelEncoder()   \n",
    "# Encode labels in column 'species'. \n",
    "clinical_data['Radiation']= label_encoder.fit_transform(clinical_data['Radiation']) "
   ]
  },
  {
   "cell_type": "code",
   "execution_count": 24,
   "id": "b1acf492",
   "metadata": {},
   "outputs": [],
   "source": [
    "#Gender\n",
    "# label_encoder object knows  \n",
    "label_encoder = preprocessing.LabelEncoder()   \n",
    "# Encode labels in column 'species'. \n",
    "clinical_data['Gender']= label_encoder.fit_transform(clinical_data['Gender']) "
   ]
  },
  {
   "cell_type": "code",
   "execution_count": 25,
   "id": "f971c2a6",
   "metadata": {},
   "outputs": [],
   "source": [
    "#survival status\n",
    "# label_encoder object knows  \n",
    "label_encoder = preprocessing.LabelEncoder()   \n",
    "# Encode labels in column 'species'. \n",
    "clinical_data['Survival Status']= label_encoder.fit_transform(clinical_data['Survival Status']) "
   ]
  },
  {
   "cell_type": "code",
   "execution_count": 26,
   "id": "5a5ab49f",
   "metadata": {},
   "outputs": [],
   "source": [
    "#chemotherapy\n",
    "# label_encoder object knows  \n",
    "label_encoder = preprocessing.LabelEncoder()   \n",
    "# Encode labels in column 'species'. \n",
    "clinical_data['Chemotherapy']= label_encoder.fit_transform(clinical_data['Chemotherapy']) "
   ]
  },
  {
   "cell_type": "code",
   "execution_count": 27,
   "id": "659cd087",
   "metadata": {},
   "outputs": [],
   "source": [
    "#Histology\n",
    "# label_encoder object knows  \n",
    "label_encoder = preprocessing.LabelEncoder()   \n",
    "# Encode labels in column 'species'. \n",
    "clinical_data['Histology ']= label_encoder.fit_transform(clinical_data['Histology ']) "
   ]
  },
  {
   "cell_type": "code",
   "execution_count": 28,
   "id": "843911d9",
   "metadata": {},
   "outputs": [
    {
     "data": {
      "text/html": [
       "<div>\n",
       "<style scoped>\n",
       "    .dataframe tbody tr th:only-of-type {\n",
       "        vertical-align: middle;\n",
       "    }\n",
       "\n",
       "    .dataframe tbody tr th {\n",
       "        vertical-align: top;\n",
       "    }\n",
       "\n",
       "    .dataframe thead th {\n",
       "        text-align: right;\n",
       "    }\n",
       "</style>\n",
       "<table border=\"1\" class=\"dataframe\">\n",
       "  <thead>\n",
       "    <tr style=\"text-align: right;\">\n",
       "      <th></th>\n",
       "      <th>Case ID</th>\n",
       "      <th>Patient affiliation</th>\n",
       "      <th>Age at Histological Diagnosis</th>\n",
       "      <th>Weight (lbs)</th>\n",
       "      <th>Gender</th>\n",
       "      <th>Ethnicity</th>\n",
       "      <th>Smoking status</th>\n",
       "      <th>Pack Years</th>\n",
       "      <th>Quit Smoking Year</th>\n",
       "      <th>%GG</th>\n",
       "      <th>...</th>\n",
       "      <th>Recurrence</th>\n",
       "      <th>Recurrence Location</th>\n",
       "      <th>Date of Recurrence</th>\n",
       "      <th>Date of Last Known Alive</th>\n",
       "      <th>Survival Status</th>\n",
       "      <th>Date of Death</th>\n",
       "      <th>Time to Death (days)</th>\n",
       "      <th>CT Date</th>\n",
       "      <th>Days between CT and surgery</th>\n",
       "      <th>PET Date</th>\n",
       "    </tr>\n",
       "  </thead>\n",
       "  <tbody>\n",
       "    <tr>\n",
       "      <th>0</th>\n",
       "      <td>AMC-001</td>\n",
       "      <td>Stanford</td>\n",
       "      <td>34</td>\n",
       "      <td>Not Collected</td>\n",
       "      <td>1</td>\n",
       "      <td>Not Recorded In Database</td>\n",
       "      <td>0</td>\n",
       "      <td>NaN</td>\n",
       "      <td>NaN</td>\n",
       "      <td>Not Assessed</td>\n",
       "      <td>...</td>\n",
       "      <td>1</td>\n",
       "      <td>distant</td>\n",
       "      <td>10/7/1994</td>\n",
       "      <td>1/7/1997</td>\n",
       "      <td>1</td>\n",
       "      <td>1/7/1997</td>\n",
       "      <td>872.0</td>\n",
       "      <td>8/10/1994</td>\n",
       "      <td>9</td>\n",
       "      <td>Not Collected</td>\n",
       "    </tr>\n",
       "    <tr>\n",
       "      <th>1</th>\n",
       "      <td>AMC-002</td>\n",
       "      <td>Stanford</td>\n",
       "      <td>33</td>\n",
       "      <td>Not Collected</td>\n",
       "      <td>0</td>\n",
       "      <td>Not Recorded In Database</td>\n",
       "      <td>0</td>\n",
       "      <td>NaN</td>\n",
       "      <td>NaN</td>\n",
       "      <td>Not Assessed</td>\n",
       "      <td>...</td>\n",
       "      <td>0</td>\n",
       "      <td>NaN</td>\n",
       "      <td>NaN</td>\n",
       "      <td>3/20/1992</td>\n",
       "      <td>0</td>\n",
       "      <td>NaN</td>\n",
       "      <td>NaN</td>\n",
       "      <td>2/19/1992</td>\n",
       "      <td>3</td>\n",
       "      <td>Not Collected</td>\n",
       "    </tr>\n",
       "    <tr>\n",
       "      <th>2</th>\n",
       "      <td>AMC-003</td>\n",
       "      <td>Stanford</td>\n",
       "      <td>69</td>\n",
       "      <td>Not Collected</td>\n",
       "      <td>0</td>\n",
       "      <td>Not Recorded In Database</td>\n",
       "      <td>0</td>\n",
       "      <td>NaN</td>\n",
       "      <td>NaN</td>\n",
       "      <td>Not Assessed</td>\n",
       "      <td>...</td>\n",
       "      <td>0</td>\n",
       "      <td>NaN</td>\n",
       "      <td>NaN</td>\n",
       "      <td>6/19/1996</td>\n",
       "      <td>0</td>\n",
       "      <td>NaN</td>\n",
       "      <td>NaN</td>\n",
       "      <td>2/23/1995</td>\n",
       "      <td>28</td>\n",
       "      <td>Not Collected</td>\n",
       "    </tr>\n",
       "    <tr>\n",
       "      <th>3</th>\n",
       "      <td>AMC-004</td>\n",
       "      <td>Stanford</td>\n",
       "      <td>80</td>\n",
       "      <td>Not Collected</td>\n",
       "      <td>0</td>\n",
       "      <td>Not Recorded In Database</td>\n",
       "      <td>0</td>\n",
       "      <td>NaN</td>\n",
       "      <td>NaN</td>\n",
       "      <td>Not Assessed</td>\n",
       "      <td>...</td>\n",
       "      <td>0</td>\n",
       "      <td>NaN</td>\n",
       "      <td>NaN</td>\n",
       "      <td>12/13/1996</td>\n",
       "      <td>0</td>\n",
       "      <td>NaN</td>\n",
       "      <td>NaN</td>\n",
       "      <td>12/26/1992</td>\n",
       "      <td>47</td>\n",
       "      <td>Not Collected</td>\n",
       "    </tr>\n",
       "    <tr>\n",
       "      <th>4</th>\n",
       "      <td>AMC-005</td>\n",
       "      <td>Stanford</td>\n",
       "      <td>76</td>\n",
       "      <td>Not Collected</td>\n",
       "      <td>1</td>\n",
       "      <td>Not Recorded In Database</td>\n",
       "      <td>1</td>\n",
       "      <td>30</td>\n",
       "      <td>1962.0</td>\n",
       "      <td>Not Assessed</td>\n",
       "      <td>...</td>\n",
       "      <td>1</td>\n",
       "      <td>distant</td>\n",
       "      <td>1/4/1996</td>\n",
       "      <td>1/7/1997</td>\n",
       "      <td>0</td>\n",
       "      <td>NaN</td>\n",
       "      <td>NaN</td>\n",
       "      <td>7/21/1994</td>\n",
       "      <td>2</td>\n",
       "      <td>Not Collected</td>\n",
       "    </tr>\n",
       "    <tr>\n",
       "      <th>...</th>\n",
       "      <td>...</td>\n",
       "      <td>...</td>\n",
       "      <td>...</td>\n",
       "      <td>...</td>\n",
       "      <td>...</td>\n",
       "      <td>...</td>\n",
       "      <td>...</td>\n",
       "      <td>...</td>\n",
       "      <td>...</td>\n",
       "      <td>...</td>\n",
       "      <td>...</td>\n",
       "      <td>...</td>\n",
       "      <td>...</td>\n",
       "      <td>...</td>\n",
       "      <td>...</td>\n",
       "      <td>...</td>\n",
       "      <td>...</td>\n",
       "      <td>...</td>\n",
       "      <td>...</td>\n",
       "      <td>...</td>\n",
       "      <td>...</td>\n",
       "    </tr>\n",
       "    <tr>\n",
       "      <th>206</th>\n",
       "      <td>R01-159</td>\n",
       "      <td>Stanford</td>\n",
       "      <td>75</td>\n",
       "      <td>184</td>\n",
       "      <td>1</td>\n",
       "      <td>Caucasian</td>\n",
       "      <td>1</td>\n",
       "      <td>55</td>\n",
       "      <td>1994.0</td>\n",
       "      <td>Not Assessed</td>\n",
       "      <td>...</td>\n",
       "      <td>0</td>\n",
       "      <td>NaN</td>\n",
       "      <td>NaN</td>\n",
       "      <td>7/13/1995</td>\n",
       "      <td>0</td>\n",
       "      <td>NaN</td>\n",
       "      <td>NaN</td>\n",
       "      <td>11/24/1994</td>\n",
       "      <td>14</td>\n",
       "      <td>11/16/1994</td>\n",
       "    </tr>\n",
       "    <tr>\n",
       "      <th>207</th>\n",
       "      <td>R01-160</td>\n",
       "      <td>VA</td>\n",
       "      <td>61</td>\n",
       "      <td>231.5</td>\n",
       "      <td>1</td>\n",
       "      <td>Caucasian</td>\n",
       "      <td>1</td>\n",
       "      <td>12</td>\n",
       "      <td>1993.0</td>\n",
       "      <td>Not Assessed</td>\n",
       "      <td>...</td>\n",
       "      <td>0</td>\n",
       "      <td>NaN</td>\n",
       "      <td>NaN</td>\n",
       "      <td>7/3/1999</td>\n",
       "      <td>0</td>\n",
       "      <td>NaN</td>\n",
       "      <td>NaN</td>\n",
       "      <td>8/12/1993</td>\n",
       "      <td>72</td>\n",
       "      <td>9/22/1993</td>\n",
       "    </tr>\n",
       "    <tr>\n",
       "      <th>208</th>\n",
       "      <td>R01-161</td>\n",
       "      <td>Stanford</td>\n",
       "      <td>52</td>\n",
       "      <td>Not Collected</td>\n",
       "      <td>0</td>\n",
       "      <td>Caucasian</td>\n",
       "      <td>1</td>\n",
       "      <td>7</td>\n",
       "      <td>NaN</td>\n",
       "      <td>Not Assessed</td>\n",
       "      <td>...</td>\n",
       "      <td>0</td>\n",
       "      <td>NaN</td>\n",
       "      <td>NaN</td>\n",
       "      <td>4/2/1999</td>\n",
       "      <td>0</td>\n",
       "      <td>NaN</td>\n",
       "      <td>NaN</td>\n",
       "      <td>12/13/1995</td>\n",
       "      <td>8</td>\n",
       "      <td>9/26/1995</td>\n",
       "    </tr>\n",
       "    <tr>\n",
       "      <th>209</th>\n",
       "      <td>R01-162</td>\n",
       "      <td>Stanford</td>\n",
       "      <td>67</td>\n",
       "      <td>158</td>\n",
       "      <td>1</td>\n",
       "      <td>Asian</td>\n",
       "      <td>1</td>\n",
       "      <td>15</td>\n",
       "      <td>1966.0</td>\n",
       "      <td>Not Assessed</td>\n",
       "      <td>...</td>\n",
       "      <td>0</td>\n",
       "      <td>NaN</td>\n",
       "      <td>NaN</td>\n",
       "      <td>10/8/1997</td>\n",
       "      <td>1</td>\n",
       "      <td>10/8/1997</td>\n",
       "      <td>671.0</td>\n",
       "      <td>10/3/1995</td>\n",
       "      <td>65</td>\n",
       "      <td>11/14/1995</td>\n",
       "    </tr>\n",
       "    <tr>\n",
       "      <th>210</th>\n",
       "      <td>R01-163</td>\n",
       "      <td>VA</td>\n",
       "      <td>68</td>\n",
       "      <td>229</td>\n",
       "      <td>1</td>\n",
       "      <td>Caucasian</td>\n",
       "      <td>2</td>\n",
       "      <td>30</td>\n",
       "      <td>NaN</td>\n",
       "      <td>Not Assessed</td>\n",
       "      <td>...</td>\n",
       "      <td>1</td>\n",
       "      <td>distant</td>\n",
       "      <td>2/15/1996</td>\n",
       "      <td>1/11/1997</td>\n",
       "      <td>1</td>\n",
       "      <td>1/11/1997</td>\n",
       "      <td>462.0</td>\n",
       "      <td>8/17/1995</td>\n",
       "      <td>51</td>\n",
       "      <td>7/12/1995</td>\n",
       "    </tr>\n",
       "  </tbody>\n",
       "</table>\n",
       "<p>211 rows × 40 columns</p>\n",
       "</div>"
      ],
      "text/plain": [
       "     Case ID Patient affiliation  Age at Histological Diagnosis  \\\n",
       "0    AMC-001            Stanford                             34   \n",
       "1    AMC-002            Stanford                             33   \n",
       "2    AMC-003            Stanford                             69   \n",
       "3    AMC-004            Stanford                             80   \n",
       "4    AMC-005            Stanford                             76   \n",
       "..       ...                 ...                            ...   \n",
       "206  R01-159            Stanford                             75   \n",
       "207  R01-160                  VA                             61   \n",
       "208  R01-161            Stanford                             52   \n",
       "209  R01-162            Stanford                             67   \n",
       "210  R01-163                  VA                             68   \n",
       "\n",
       "      Weight (lbs)  Gender                 Ethnicity  Smoking status  \\\n",
       "0    Not Collected       1  Not Recorded In Database               0   \n",
       "1    Not Collected       0  Not Recorded In Database               0   \n",
       "2    Not Collected       0  Not Recorded In Database               0   \n",
       "3    Not Collected       0  Not Recorded In Database               0   \n",
       "4    Not Collected       1  Not Recorded In Database               1   \n",
       "..             ...     ...                       ...             ...   \n",
       "206            184       1                 Caucasian               1   \n",
       "207          231.5       1                 Caucasian               1   \n",
       "208  Not Collected       0                 Caucasian               1   \n",
       "209            158       1                     Asian               1   \n",
       "210            229       1                 Caucasian               2   \n",
       "\n",
       "    Pack Years  Quit Smoking Year           %GG  ... Recurrence  \\\n",
       "0          NaN                NaN  Not Assessed  ...          1   \n",
       "1          NaN                NaN  Not Assessed  ...          0   \n",
       "2          NaN                NaN  Not Assessed  ...          0   \n",
       "3          NaN                NaN  Not Assessed  ...          0   \n",
       "4           30             1962.0  Not Assessed  ...          1   \n",
       "..         ...                ...           ...  ...        ...   \n",
       "206         55             1994.0  Not Assessed  ...          0   \n",
       "207         12             1993.0  Not Assessed  ...          0   \n",
       "208          7                NaN  Not Assessed  ...          0   \n",
       "209         15             1966.0  Not Assessed  ...          0   \n",
       "210         30                NaN  Not Assessed  ...          1   \n",
       "\n",
       "    Recurrence Location Date of Recurrence Date of Last Known Alive  \\\n",
       "0               distant          10/7/1994                 1/7/1997   \n",
       "1                   NaN                NaN                3/20/1992   \n",
       "2                   NaN                NaN                6/19/1996   \n",
       "3                   NaN                NaN               12/13/1996   \n",
       "4               distant           1/4/1996                 1/7/1997   \n",
       "..                  ...                ...                      ...   \n",
       "206                 NaN                NaN                7/13/1995   \n",
       "207                 NaN                NaN                 7/3/1999   \n",
       "208                 NaN                NaN                 4/2/1999   \n",
       "209                 NaN                NaN                10/8/1997   \n",
       "210             distant          2/15/1996                1/11/1997   \n",
       "\n",
       "    Survival Status Date of Death Time to Death (days)     CT Date  \\\n",
       "0                 1      1/7/1997                872.0   8/10/1994   \n",
       "1                 0           NaN                  NaN   2/19/1992   \n",
       "2                 0           NaN                  NaN   2/23/1995   \n",
       "3                 0           NaN                  NaN  12/26/1992   \n",
       "4                 0           NaN                  NaN   7/21/1994   \n",
       "..              ...           ...                  ...         ...   \n",
       "206               0           NaN                  NaN  11/24/1994   \n",
       "207               0           NaN                  NaN   8/12/1993   \n",
       "208               0           NaN                  NaN  12/13/1995   \n",
       "209               1     10/8/1997                671.0   10/3/1995   \n",
       "210               1     1/11/1997                462.0   8/17/1995   \n",
       "\n",
       "    Days between CT and surgery       PET Date  \n",
       "0                             9  Not Collected  \n",
       "1                             3  Not Collected  \n",
       "2                            28  Not Collected  \n",
       "3                            47  Not Collected  \n",
       "4                             2  Not Collected  \n",
       "..                          ...            ...  \n",
       "206                          14     11/16/1994  \n",
       "207                          72      9/22/1993  \n",
       "208                           8      9/26/1995  \n",
       "209                          65     11/14/1995  \n",
       "210                          51      7/12/1995  \n",
       "\n",
       "[211 rows x 40 columns]"
      ]
     },
     "execution_count": 28,
     "metadata": {},
     "output_type": "execute_result"
    }
   ],
   "source": [
    "clinical_data"
   ]
  },
  {
   "cell_type": "code",
   "execution_count": 29,
   "id": "d2f87798",
   "metadata": {},
   "outputs": [
    {
     "name": "stdout",
     "output_type": "stream",
     "text": [
      "   Case ID Patient affiliation  Age at Histological Diagnosis   Weight (lbs)  \\\n",
      "0  AMC-001            Stanford                             34  Not Collected   \n",
      "1  AMC-002            Stanford                             33  Not Collected   \n",
      "\n",
      "   Gender                 Ethnicity  Smoking status Pack Years  \\\n",
      "0       1  Not Recorded In Database               0        NaN   \n",
      "1       0  Not Recorded In Database               0        NaN   \n",
      "\n",
      "   Quit Smoking Year           %GG  ... Time to Death (days)    CT Date  \\\n",
      "0                NaN  Not Assessed  ...                872.0  8/10/1994   \n",
      "1                NaN  Not Assessed  ...                  NaN  2/19/1992   \n",
      "\n",
      "  Days between CT and surgery       PET Date EGFR mutation status_Mutant  \\\n",
      "0                           9  Not Collected                           0   \n",
      "1                           3  Not Collected                           0   \n",
      "\n",
      "  EGFR mutation status_Wildtype KRAS mutation status_Mutant  \\\n",
      "0                             1                           1   \n",
      "1                             1                           0   \n",
      "\n",
      "   KRAS mutation status_Wildtype ALK translocation status_Translocated  \\\n",
      "0                              0                                     0   \n",
      "1                              1                                     0   \n",
      "\n",
      "  ALK translocation status_Wildtype  \n",
      "0                                 1  \n",
      "1                                 1  \n",
      "\n",
      "[2 rows x 43 columns]\n"
     ]
    }
   ],
   "source": [
    "one_hot_encoded_data = pd.get_dummies(clinical_data, columns = ['EGFR mutation status','KRAS mutation status','ALK translocation status']) \n",
    "print(one_hot_encoded_data.head(2))"
   ]
  },
  {
   "cell_type": "code",
   "execution_count": 30,
   "id": "23a96c00",
   "metadata": {},
   "outputs": [
    {
     "data": {
      "text/plain": [
       "Index(['Case ID', 'Patient affiliation', 'Age at Histological Diagnosis',\n",
       "       'Weight (lbs)', 'Gender', 'Ethnicity', 'Smoking status', 'Pack Years',\n",
       "       'Quit Smoking Year', '%GG', 'Tumor Location (choice=RUL)',\n",
       "       'Tumor Location (choice=RML)', 'Tumor Location (choice=RLL)',\n",
       "       'Tumor Location (choice=LUL)', 'Tumor Location (choice=LLL)',\n",
       "       'Tumor Location (choice=L Lingula)', 'Tumor Location (choice=Unknown)',\n",
       "       'Histology ', 'Pathological T stage', 'Pathological N stage',\n",
       "       'Pathological M stage', 'Histopathological Grade',\n",
       "       'Lymphovascular invasion',\n",
       "       'Pleural invasion (elastic, visceral, or parietal)',\n",
       "       'Adjuvant Treatment', 'Chemotherapy', 'Radiation', 'Recurrence',\n",
       "       'Recurrence Location', 'Date of Recurrence', 'Date of Last Known Alive',\n",
       "       'Survival Status', 'Date of Death', 'Time to Death (days)', 'CT Date',\n",
       "       'Days between CT and surgery', 'PET Date',\n",
       "       'EGFR mutation status_Mutant', 'EGFR mutation status_Wildtype',\n",
       "       'KRAS mutation status_Mutant', 'KRAS mutation status_Wildtype',\n",
       "       'ALK translocation status_Translocated',\n",
       "       'ALK translocation status_Wildtype'],\n",
       "      dtype='object')"
      ]
     },
     "execution_count": 30,
     "metadata": {},
     "output_type": "execute_result"
    }
   ],
   "source": [
    "one_hot_encoded_data.columns"
   ]
  },
  {
   "cell_type": "code",
   "execution_count": 31,
   "id": "74b73af6",
   "metadata": {},
   "outputs": [],
   "source": [
    "X_data=one_hot_encoded_data.loc[:,['Age at Histological Diagnosis','Gender','Smoking status','Histology ','EGFR mutation status_Mutant', 'EGFR mutation status_Wildtype','KRAS mutation status_Mutant', 'KRAS mutation status_Wildtype',\n",
    "       'ALK translocation status_Translocated',\n",
    "       'ALK translocation status_Wildtype','Chemotherapy', 'Radiation', 'Survival Status']]\n",
    "Y_label=one_hot_encoded_data.loc[:,[\"Recurrence\"]]"
   ]
  },
  {
   "cell_type": "code",
   "execution_count": 32,
   "id": "963b3e77",
   "metadata": {},
   "outputs": [],
   "source": [
    "#splitting dataset into train and test\n",
    "xtrain,xtest,ytrain,ytest=train_test_split(X_data,Y_label,test_size=0.2)"
   ]
  },
  {
   "cell_type": "code",
   "execution_count": 33,
   "id": "1f66c872",
   "metadata": {},
   "outputs": [
    {
     "data": {
      "text/plain": [
       "(168, 13)"
      ]
     },
     "execution_count": 33,
     "metadata": {},
     "output_type": "execute_result"
    }
   ],
   "source": [
    "xtrain.shape\n"
   ]
  },
  {
   "cell_type": "code",
   "execution_count": 34,
   "id": "ba643d5a",
   "metadata": {},
   "outputs": [
    {
     "data": {
      "text/plain": [
       "(43, 13)"
      ]
     },
     "execution_count": 34,
     "metadata": {},
     "output_type": "execute_result"
    }
   ],
   "source": [
    "xtest.shape"
   ]
  },
  {
   "cell_type": "code",
   "execution_count": 35,
   "id": "4d096cd4",
   "metadata": {},
   "outputs": [
    {
     "data": {
      "text/plain": [
       "(168, 1)"
      ]
     },
     "execution_count": 35,
     "metadata": {},
     "output_type": "execute_result"
    }
   ],
   "source": [
    "ytrain.shape"
   ]
  },
  {
   "cell_type": "code",
   "execution_count": 36,
   "id": "3287bf48",
   "metadata": {},
   "outputs": [
    {
     "data": {
      "text/plain": [
       "(43, 1)"
      ]
     },
     "execution_count": 36,
     "metadata": {},
     "output_type": "execute_result"
    }
   ],
   "source": [
    "ytest.shape"
   ]
  },
  {
   "cell_type": "code",
   "execution_count": 37,
   "id": "10d8c389",
   "metadata": {},
   "outputs": [
    {
     "name": "stderr",
     "output_type": "stream",
     "text": [
      "C:\\Users\\manid\\anaconda3\\lib\\site-packages\\sklearn\\utils\\validation.py:63: DataConversionWarning: A column-vector y was passed when a 1d array was expected. Please change the shape of y to (n_samples, ), for example using ravel().\n",
      "  return f(*args, **kwargs)\n"
     ]
    },
    {
     "data": {
      "text/plain": [
       "MultinomialNB(alpha=0.5)"
      ]
     },
     "execution_count": 37,
     "metadata": {},
     "output_type": "execute_result"
    }
   ],
   "source": [
    "#building model for Naive bayes--\n",
    "model=MultinomialNB(alpha=0.5)\n",
    "model.fit(xtrain,ytrain)"
   ]
  },
  {
   "cell_type": "code",
   "execution_count": 38,
   "id": "6126d1ce",
   "metadata": {},
   "outputs": [],
   "source": [
    "#predicting the testdata using the above model\n",
    "pred=model.predict(xtest)"
   ]
  },
  {
   "cell_type": "code",
   "execution_count": 39,
   "id": "396ab9a1",
   "metadata": {},
   "outputs": [],
   "source": [
    "#building confusion matrix \n",
    "cf_matrix=confusion_matrix(ytest,pred)"
   ]
  },
  {
   "cell_type": "code",
   "execution_count": 40,
   "id": "66afaeaf",
   "metadata": {},
   "outputs": [
    {
     "data": {
      "text/plain": [
       "0.6976744186046512"
      ]
     },
     "execution_count": 40,
     "metadata": {},
     "output_type": "execute_result"
    }
   ],
   "source": [
    "#accuracy of the model\n",
    "model.score(xtest,ytest)"
   ]
  },
  {
   "cell_type": "code",
   "execution_count": 41,
   "id": "86b53aae",
   "metadata": {},
   "outputs": [
    {
     "name": "stderr",
     "output_type": "stream",
     "text": [
      "<ipython-input-41-a4e54b8a42b2>:4: DataConversionWarning: A column-vector y was passed when a 1d array was expected. Please change the shape of y to (n_samples,), for example using ravel().\n",
      "  rf_model.fit(xtrain, ytrain)\n"
     ]
    },
    {
     "data": {
      "text/plain": [
       "0.6511627906976745"
      ]
     },
     "execution_count": 41,
     "metadata": {},
     "output_type": "execute_result"
    }
   ],
   "source": [
    "rf_model = RandomForestClassifier(n_estimators=100, random_state=42)\n",
    "\n",
    "# Train the model\n",
    "rf_model.fit(xtrain, ytrain)\n",
    "\n",
    "# Make predictions on the test set\n",
    "ypred = rf_model.predict(xtest)\n",
    "\n",
    "# Evaluate the model\n",
    "rf_model.score(xtest,ytest)"
   ]
  },
  {
   "cell_type": "code",
   "execution_count": 45,
   "id": "a3d6bf31",
   "metadata": {},
   "outputs": [
    {
     "name": "stdout",
     "output_type": "stream",
     "text": [
      "Epoch 1/10\n",
      "5/5 [==============================] - 2s 112ms/step - loss: 0.6319 - accuracy: 0.6791 - val_loss: 0.5950 - val_accuracy: 0.8235\n",
      "Epoch 2/10\n",
      "5/5 [==============================] - 0s 26ms/step - loss: 0.6695 - accuracy: 0.7015 - val_loss: 0.5812 - val_accuracy: 0.8235\n",
      "Epoch 3/10\n",
      "5/5 [==============================] - 0s 27ms/step - loss: 0.6129 - accuracy: 0.7313 - val_loss: 0.5671 - val_accuracy: 0.8235\n",
      "Epoch 4/10\n",
      "5/5 [==============================] - 0s 25ms/step - loss: 0.6084 - accuracy: 0.7090 - val_loss: 0.5602 - val_accuracy: 0.7941\n",
      "Epoch 5/10\n",
      "5/5 [==============================] - 0s 27ms/step - loss: 0.5635 - accuracy: 0.7612 - val_loss: 0.5536 - val_accuracy: 0.7941\n",
      "Epoch 6/10\n",
      "5/5 [==============================] - 0s 27ms/step - loss: 0.5845 - accuracy: 0.7612 - val_loss: 0.5474 - val_accuracy: 0.7941\n",
      "Epoch 7/10\n",
      "5/5 [==============================] - 0s 28ms/step - loss: 0.6333 - accuracy: 0.7239 - val_loss: 0.5423 - val_accuracy: 0.7941\n",
      "Epoch 8/10\n",
      "5/5 [==============================] - 0s 27ms/step - loss: 0.5802 - accuracy: 0.7388 - val_loss: 0.5381 - val_accuracy: 0.7941\n",
      "Epoch 9/10\n",
      "5/5 [==============================] - 0s 27ms/step - loss: 0.5759 - accuracy: 0.7687 - val_loss: 0.5341 - val_accuracy: 0.7941\n",
      "Epoch 10/10\n",
      "5/5 [==============================] - 0s 26ms/step - loss: 0.5670 - accuracy: 0.7612 - val_loss: 0.5300 - val_accuracy: 0.7941\n",
      "2/2 [==============================] - 0s 11ms/step - loss: 0.6232 - accuracy: 0.6744\n",
      "Test Accuracy: 0.6744186282157898\n"
     ]
    }
   ],
   "source": [
    "#DL\n",
    "scaler = StandardScaler()\n",
    "X_train = scaler.fit_transform(xtrain)\n",
    "X_test = scaler.transform(xtest)\n",
    "\n",
    "# Build the neural network model\n",
    "model = keras.Sequential([\n",
    "    keras.layers.Dense(64, activation='relu', input_shape=(X_train.shape[1],)),\n",
    "    keras.layers.Dropout(0.5),\n",
    "    keras.layers.Dense(32, activation='relu'),\n",
    "    keras.layers.Dropout(0.5),\n",
    "    keras.layers.Dense(1, activation='sigmoid')  # Use 'sigmoid' for binary classification\n",
    "])\n",
    "\n",
    "# Compile the model\n",
    "model.compile(optimizer='adam', loss='binary_crossentropy', metrics=['accuracy'])\n",
    "\n",
    "# Train the model\n",
    "model.fit(X_train, ytrain, epochs=10, batch_size=32, validation_split=0.2)\n",
    "\n",
    "# Evaluate the model on the test set\n",
    "test_loss, test_accuracy = model.evaluate(X_test, ytest)\n",
    "print(f\"Test Accuracy: {test_accuracy}\")"
   ]
  },
  {
   "cell_type": "code",
   "execution_count": null,
   "id": "d5c9f7a6",
   "metadata": {},
   "outputs": [],
   "source": []
  },
  {
   "cell_type": "code",
   "execution_count": null,
   "id": "39927b47",
   "metadata": {},
   "outputs": [],
   "source": []
  },
  {
   "cell_type": "code",
   "execution_count": null,
   "id": "5a26e629",
   "metadata": {},
   "outputs": [],
   "source": []
  },
  {
   "cell_type": "code",
   "execution_count": null,
   "id": "e0674424",
   "metadata": {},
   "outputs": [],
   "source": []
  },
  {
   "cell_type": "code",
   "execution_count": null,
   "id": "6b9a1177",
   "metadata": {},
   "outputs": [],
   "source": []
  }
 ],
 "metadata": {
  "kernelspec": {
   "display_name": "Python 3 (ipykernel)",
   "language": "python",
   "name": "python3"
  },
  "language_info": {
   "codemirror_mode": {
    "name": "ipython",
    "version": 3
   },
   "file_extension": ".py",
   "mimetype": "text/x-python",
   "name": "python",
   "nbconvert_exporter": "python",
   "pygments_lexer": "ipython3",
   "version": "3.9.7"
  }
 },
 "nbformat": 4,
 "nbformat_minor": 5
}
